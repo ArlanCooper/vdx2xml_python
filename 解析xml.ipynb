{
 "cells": [
  {
   "cell_type": "markdown",
   "metadata": {},
   "source": [
    "# xml文件"
   ]
  },
  {
   "cell_type": "raw",
   "metadata": {},
   "source": [
    "<collection shelf=\"New Arrivals\">\n",
    "<movie title=\"Enemy Behind\">\n",
    "   <type>War, Thriller</type>\n",
    "   <format>DVD</format>\n",
    "   <year>2003</year>\n",
    "   <rating>PG</rating>\n",
    "   <stars>10</stars>\n",
    "   <description>Talk about a US-Japan war</description>\n",
    "</movie>\n",
    "<movie title=\"Transformers\">\n",
    "   <type>Anime, Science Fiction</type>\n",
    "   <format>DVD</format>\n",
    "   <year>1989</year>\n",
    "   <rating>R</rating>\n",
    "   <stars>8</stars>\n",
    "   <description>A schientific fiction</description>\n",
    "</movie>\n",
    "   <movie title=\"Trigun\">\n",
    "   <type>Anime, Action</type>\n",
    "   <format>DVD</format>\n",
    "   <episodes>4</episodes>\n",
    "   <rating>PG</rating>\n",
    "   <stars>10</stars>\n",
    "   <description>Vash the Stampede!</description>\n",
    "</movie>\n",
    "<movie title=\"Ishtar\">\n",
    "   <type>Comedy</type>\n",
    "   <format>VHS</format>\n",
    "   <rating>PG</rating>\n",
    "   <stars>2</stars>\n",
    "   <description>Viewable boredom</description>\n",
    "</movie>\n",
    "</collection>"
   ]
  },
  {
   "cell_type": "code",
   "execution_count": null,
   "metadata": {},
   "outputs": [],
   "source": []
  },
  {
   "cell_type": "markdown",
   "metadata": {},
   "source": [
    "# sax解析xml"
   ]
  },
  {
   "cell_type": "code",
   "execution_count": 2,
   "metadata": {
    "ExecuteTime": {
     "end_time": "2021-05-18T12:14:22.408332Z",
     "start_time": "2021-05-18T12:14:22.395366Z"
    }
   },
   "outputs": [],
   "source": [
    "#!/usr/bin/python\n",
    "# -*- coding: UTF-8 -*-\n",
    " \n",
    "import xml.sax\n",
    " \n",
    "class MovieHandler( xml.sax.ContentHandler ):\n",
    "    def __init__(self):\n",
    "        self.CurrentData = \"\"\n",
    "        self.type = \"\"\n",
    "        self.format = \"\"\n",
    "        self.year = \"\"\n",
    "        self.rating = \"\"\n",
    "        self.stars = \"\"\n",
    "        self.description = \"\"\n",
    "\n",
    "    # 元素开始事件处理\n",
    "    def startElement(self, tag, attributes):\n",
    "        self.CurrentData = tag\n",
    "        if tag == \"movie\":\n",
    "            title = attributes[\"title\"]\n",
    " \n",
    "   # 元素结束事件处理\n",
    "    def endElement(self, tag):\n",
    "        if self.CurrentData == \"type\":\n",
    "            print('type',self.type)\n",
    "        elif self.CurrentData == \"format\":\n",
    "            print('format',self.format)\n",
    "        elif self.CurrentData == \"year\":\n",
    "            print('year',self.year)\n",
    "        elif self.CurrentData == \"rating\":\n",
    "            print('rating',self.rating)\n",
    "        elif self.CurrentData == \"stars\":\n",
    "            print('stars',self.stars)\n",
    "        elif self.CurrentData == \"description\":\n",
    "            print(\"Description:\", self.description)\n",
    "        self.CurrentData = \"\"\n",
    " \n",
    "   # 内容事件处理\n",
    "    def characters(self, content):\n",
    "        if self.CurrentData == \"type\":\n",
    "            self.type = content\n",
    "        elif self.CurrentData == \"format\":\n",
    "            self.format = content\n",
    "        elif self.CurrentData == \"year\":\n",
    "            self.year = content\n",
    "        elif self.CurrentData == \"rating\":\n",
    "            self.rating = content\n",
    "        elif self.CurrentData == \"stars\":\n",
    "            self.stars = content\n",
    "        elif self.CurrentData == \"description\":\n",
    "            self.description = content"
   ]
  },
  {
   "cell_type": "code",
   "execution_count": 5,
   "metadata": {
    "ExecuteTime": {
     "end_time": "2021-05-18T12:14:46.475971Z",
     "start_time": "2021-05-18T12:14:46.455025Z"
    }
   },
   "outputs": [
    {
     "name": "stdout",
     "output_type": "stream",
     "text": [
      "type War, Thriller\n",
      "format DVD\n",
      "year 2003\n",
      "rating PG\n",
      "stars 10\n",
      "Description: Talk about a US-Japan war\n",
      "type Anime, Science Fiction\n",
      "format DVD\n",
      "year 1989\n",
      "rating R\n",
      "stars 8\n",
      "Description: A schientific fiction\n",
      "type Anime, Action\n",
      "format DVD\n",
      "rating PG\n",
      "stars 10\n",
      "Description: Vash the Stampede!\n",
      "type Comedy\n",
      "format VHS\n",
      "rating PG\n",
      "stars 2\n",
      "Description: Viewable boredom\n"
     ]
    }
   ],
   "source": [
    "# 创建一个 XMLReader\n",
    "parser = xml.sax.make_parser()\n",
    "# turn off namepsaces\n",
    "parser.setFeature(xml.sax.handler.feature_namespaces, 0)\n",
    "\n",
    "# 重写 ContextHandler\n",
    "Handler = MovieHandler()\n",
    "parser.setContentHandler( Handler )\n",
    "\n",
    "parser.parse(\"movie_xml.xml\")"
   ]
  },
  {
   "cell_type": "code",
   "execution_count": 7,
   "metadata": {
    "ExecuteTime": {
     "end_time": "2021-05-18T12:15:56.533305Z",
     "start_time": "2021-05-18T12:15:56.500354Z"
    }
   },
   "outputs": [],
   "source": [
    "parser = xml.sax.make_parser()\n",
    "# turn off namepsaces\n",
    "parser.setFeature(xml.sax.handler.feature_namespaces, 0)\n",
    "\n",
    "# 重写 ContextHandler\n",
    "Handler = MovieHandler()\n",
    "parser.setContentHandler( Handler )\n",
    "parser.parse(r'E:\\个人计划\\python\\vdx转xml资料\\临时文件录屏演示用\\1.vdx')"
   ]
  },
  {
   "cell_type": "markdown",
   "metadata": {},
   "source": [
    "# ET解析xml"
   ]
  },
  {
   "cell_type": "code",
   "execution_count": 28,
   "metadata": {
    "ExecuteTime": {
     "end_time": "2021-05-19T01:35:11.937286Z",
     "start_time": "2021-05-19T01:35:11.932302Z"
    }
   },
   "outputs": [],
   "source": [
    "try:\n",
    "    import xml.etree.cElementTree as ET\n",
    "except ImportError:\n",
    "    import xml.etree.ElementTree as ET\n",
    "import re"
   ]
  },
  {
   "cell_type": "code",
   "execution_count": 9,
   "metadata": {
    "ExecuteTime": {
     "end_time": "2021-05-18T12:17:33.481982Z",
     "start_time": "2021-05-18T12:17:33.477992Z"
    }
   },
   "outputs": [],
   "source": [
    "tree = ET.ElementTree(file='movie_xml.xml')"
   ]
  },
  {
   "cell_type": "code",
   "execution_count": 11,
   "metadata": {
    "ExecuteTime": {
     "end_time": "2021-05-18T12:17:44.200307Z",
     "start_time": "2021-05-18T12:17:44.197283Z"
    }
   },
   "outputs": [
    {
     "data": {
      "text/plain": [
       "<Element 'collection' at 0x0000021C50A5E728>"
      ]
     },
     "execution_count": 11,
     "metadata": {},
     "output_type": "execute_result"
    }
   ],
   "source": [
    "tree.getroot()"
   ]
  },
  {
   "cell_type": "code",
   "execution_count": 12,
   "metadata": {
    "ExecuteTime": {
     "end_time": "2021-05-18T12:18:39.538839Z",
     "start_time": "2021-05-18T12:18:39.478872Z"
    }
   },
   "outputs": [],
   "source": [
    "tr1 =  ET.ElementTree(file=r'E:\\个人计划\\python\\vdx转xml资料\\临时文件录屏演示用\\1.vdx')"
   ]
  },
  {
   "cell_type": "code",
   "execution_count": 13,
   "metadata": {
    "ExecuteTime": {
     "end_time": "2021-05-18T12:18:45.189383Z",
     "start_time": "2021-05-18T12:18:45.186362Z"
    }
   },
   "outputs": [
    {
     "data": {
      "text/plain": [
       "<Element '{http://schemas.microsoft.com/visio/2003/core}VisioDocument' at 0x0000021C529C5908>"
      ]
     },
     "execution_count": 13,
     "metadata": {},
     "output_type": "execute_result"
    }
   ],
   "source": [
    "tr1.getroot()"
   ]
  },
  {
   "cell_type": "code",
   "execution_count": null,
   "metadata": {},
   "outputs": [],
   "source": []
  },
  {
   "cell_type": "code",
   "execution_count": 33,
   "metadata": {
    "ExecuteTime": {
     "end_time": "2021-05-19T05:55:55.152066Z",
     "start_time": "2021-05-19T05:55:55.111176Z"
    }
   },
   "outputs": [
    {
     "name": "stdout",
     "output_type": "stream",
     "text": [
      "ColorEntry {'IX': '0', 'RGB': '#000000'} []\n",
      "ColorEntry {'IX': '1', 'RGB': '#FFFFFF'} []\n",
      "ColorEntry {'IX': '2', 'RGB': '#FF0000'} []\n",
      "ColorEntry {'IX': '3', 'RGB': '#00FF00'} []\n",
      "ColorEntry {'IX': '4', 'RGB': '#0000FF'} []\n",
      "ColorEntry {'IX': '5', 'RGB': '#FFFF00'} []\n",
      "ColorEntry {'IX': '6', 'RGB': '#FF00FF'} []\n",
      "ColorEntry {'IX': '7', 'RGB': '#00FFFF'} []\n",
      "ColorEntry {'IX': '8', 'RGB': '#800000'} []\n",
      "ColorEntry {'IX': '9', 'RGB': '#008000'} []\n",
      "ColorEntry {'IX': '10', 'RGB': '#000080'} []\n",
      "ColorEntry {'IX': '11', 'RGB': '#808000'} []\n",
      "ColorEntry {'IX': '12', 'RGB': '#800080'} []\n",
      "ColorEntry {'IX': '13', 'RGB': '#008080'} []\n",
      "ColorEntry {'IX': '14', 'RGB': '#C0C0C0'} []\n",
      "ColorEntry {'IX': '15', 'RGB': '#E6E6E6'} []\n",
      "ColorEntry {'IX': '16', 'RGB': '#CDCDCD'} []\n",
      "ColorEntry {'IX': '17', 'RGB': '#B3B3B3'} []\n",
      "ColorEntry {'IX': '18', 'RGB': '#9A9A9A'} []\n",
      "ColorEntry {'IX': '19', 'RGB': '#808080'} []\n",
      "ColorEntry {'IX': '20', 'RGB': '#666666'} []\n",
      "ColorEntry {'IX': '21', 'RGB': '#4D4D4D'} []\n",
      "ColorEntry {'IX': '22', 'RGB': '#333333'} []\n",
      "ColorEntry {'IX': '23', 'RGB': '#1A1A1A'} []\n",
      "ColorEntry {'IX': '24', 'RGB': '#FFFFFF'} []\n",
      "ColorEntry {'IX': '25', 'RGB': '#000000'} []\n",
      "ColorEntry {'IX': '26', 'RGB': '#DEDEDE'} []\n",
      "ColorEntry {'IX': '27', 'RGB': '#96AFCF'} []\n",
      "ColorEntry {'IX': '28', 'RGB': '#BFCEE1'} []\n",
      "ColorEntry {'IX': '29', 'RGB': '#C05046'} []\n",
      "ColorEntry {'IX': '30', 'RGB': '#FFA091'} []\n",
      "ColorEntry {'IX': '31', 'RGB': '#FFB9AE'} []\n",
      "ColorEntry {'IX': '32', 'RGB': '#6E96B4'} []\n",
      "ColorEntry {'IX': '33', 'RGB': '#95B3C8'} []\n",
      "ColorEntry {'IX': '34', 'RGB': '#4979C0'} []\n",
      "ColorEntry {'IX': '35', 'RGB': '#879678'} []\n",
      "ColorEntry {'IX': '36', 'RGB': '#7864AA'} []\n",
      "ColorEntry {'IX': '37', 'RGB': '#1E1E1E'} []\n",
      "ColorEntry {'IX': '38', 'RGB': '#00FF00'} []\n",
      "ColorEntry {'IX': '39', 'RGB': '#3CFF3C'} []\n",
      "ColorEntry {'IX': '40', 'RGB': '#B2B2B2'} []\n",
      "ColorEntry {'IX': '41', 'RGB': '#262626'} []\n",
      "ColorEntry {'IX': '42', 'RGB': '#C8C8C8'} []\n",
      "ColorEntry {'IX': '43', 'RGB': '#9DBB61'} []\n",
      "ColorEntry {'IX': '44', 'RGB': '#85A446'} []\n",
      "ColorEntry {'IX': '45', 'RGB': '#00B050'} []\n",
      "ColorEntry {'IX': '46', 'RGB': '#92D050'} []\n",
      "ColorEntry {'IX': '47', 'RGB': '#B0DD80'} []\n",
      "ColorEntry {'IX': '48', 'RGB': '#FF0000'} []\n"
     ]
    },
    {
     "name": "stderr",
     "output_type": "stream",
     "text": [
      "D:\\programs\\anaconda\\lib\\site-packages\\ipykernel_launcher.py:5: DeprecationWarning: This method will be removed in future versions.  Use 'list(elem)' or iteration over elem instead.\n",
      "  \"\"\"\n",
      "D:\\programs\\anaconda\\lib\\site-packages\\ipykernel_launcher.py:7: DeprecationWarning: This method will be removed in future versions.  Use 'list(elem)' or iteration over elem instead.\n",
      "  import sys\n"
     ]
    }
   ],
   "source": [
    "for node in tr1.iter():\n",
    "    patten = '{.*?}'\n",
    "    label = re.sub(patten,'',node.tag)\n",
    "    if label == 'Colors':\n",
    "        for ii in node.getchildren():\n",
    "            new_label = re.sub(patten,'',ii.tag)\n",
    "            print(new_label,ii.attrib)"
   ]
  },
  {
   "cell_type": "code",
   "execution_count": 29,
   "metadata": {
    "ExecuteTime": {
     "end_time": "2021-05-19T01:58:08.435633Z",
     "start_time": "2021-05-19T01:58:08.418678Z"
    }
   },
   "outputs": [
    {
     "name": "stderr",
     "output_type": "stream",
     "text": [
      "D:\\programs\\anaconda\\lib\\site-packages\\ipykernel_launcher.py:1: DeprecationWarning: This method will be removed in future versions.  Use 'list(elem)' or iteration over elem instead.\n",
      "  \"\"\"Entry point for launching an IPython kernel.\n"
     ]
    },
    {
     "data": {
      "text/plain": [
       "[]"
      ]
     },
     "execution_count": 29,
     "metadata": {},
     "output_type": "execute_result"
    }
   ],
   "source": [
    "node.getchildren()"
   ]
  },
  {
   "cell_type": "code",
   "execution_count": 34,
   "metadata": {
    "ExecuteTime": {
     "end_time": "2021-05-19T08:25:32.363384Z",
     "start_time": "2021-05-19T08:25:32.344403Z"
    }
   },
   "outputs": [
    {
     "name": "stdout",
     "output_type": "stream",
     "text": [
      "<data><country name=\"Liechtenstein\"><rank>1</rank><year>2008</year></country></data>\n"
     ]
    }
   ],
   "source": [
    "import xml.etree.ElementTree as ET\n",
    "root = ET.Element('data')\n",
    "country = ET.SubElement(root,'country', {'name':'Liechtenstein'})  # root 增加 country 节点\n",
    "rank = ET.SubElement(country,'rank')  # country 增加 rank 节点\n",
    "rank.text = '1'\n",
    "year = ET.SubElement(country,'year')  # country 增加 year节点\n",
    "year.text = '2008'\n",
    "ET.dump(root)"
   ]
  },
  {
   "cell_type": "code",
   "execution_count": null,
   "metadata": {},
   "outputs": [],
   "source": []
  }
 ],
 "metadata": {
  "kernelspec": {
   "display_name": "Python 3",
   "language": "python",
   "name": "python3"
  },
  "language_info": {
   "codemirror_mode": {
    "name": "ipython",
    "version": 3
   },
   "file_extension": ".py",
   "mimetype": "text/x-python",
   "name": "python",
   "nbconvert_exporter": "python",
   "pygments_lexer": "ipython3",
   "version": "3.7.6"
  },
  "toc": {
   "base_numbering": 1,
   "nav_menu": {},
   "number_sections": true,
   "sideBar": true,
   "skip_h1_title": false,
   "title_cell": "Table of Contents",
   "title_sidebar": "Contents",
   "toc_cell": false,
   "toc_position": {},
   "toc_section_display": true,
   "toc_window_display": true
  }
 },
 "nbformat": 4,
 "nbformat_minor": 4
}
